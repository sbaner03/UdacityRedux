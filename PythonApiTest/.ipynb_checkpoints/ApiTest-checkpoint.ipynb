{
 "cells": [
  {
   "cell_type": "code",
   "execution_count": null,
   "metadata": {
    "collapsed": true
   },
   "outputs": [],
   "source": [
    "import aiohttp\n",
    "import asyncio\n",
    "import async_timeout\n",
    "from datetime import datetime\n",
    "import pickle\n",
    "import pandas as pd\n",
    "import json\n",
    "import ast"
   ]
  },
  {
   "cell_type": "code",
   "execution_count": null,
   "metadata": {
    "collapsed": true
   },
   "outputs": [],
   "source": [
    "async def fetch(session, url, string, headers = {'Authorization': 'test'}):\n",
    "    with async_timeout.timeout(0):\n",
    "        async with session.get(url+'/{0}'.format(string), headers=headers) as response:\n",
    "            try:\n",
    "                return await response.json()\n",
    "            except:\n",
    "                return await response.text()\n",
    "\n",
    "            \n",
    "async def main(string='posts'):\n",
    "    async with aiohttp.ClientSession() as session:\n",
    "        response = await fetch(session, 'http://localhost:5001',string)\n",
    "        return response"
   ]
  },
  {
   "cell_type": "code",
   "execution_count": null,
   "metadata": {
    "collapsed": true
   },
   "outputs": [],
   "source": [
    "loop = asyncio.get_event_loop()\n",
    "resp = loop.run_until_complete(main('comments'))"
   ]
  },
  {
   "cell_type": "code",
   "execution_count": null,
   "metadata": {},
   "outputs": [],
   "source": [
    "loop = asyncio.get_event_loop()\n",
    "resp = loop.run_until_complete(main('posts'))\n",
    "resp"
   ]
  },
  {
   "cell_type": "code",
   "execution_count": null,
   "metadata": {
    "collapsed": true
   },
   "outputs": [],
   "source": [
    "newPost = {'author': 'supratim',\n",
    "  'body': 'Subtle changes',\n",
    "  'category': 'redux',\n",
    "  'id': '8xf0y6ziyjabvozdd253sb',\n",
    "  'timestamp': datetime.now(),\n",
    "  'title': 'ABC is the best place to learn React'}"
   ]
  },
  {
   "cell_type": "code",
   "execution_count": null,
   "metadata": {},
   "outputs": [],
   "source": [
    "async def post(session, url, string,data, headers = {'Authorization': 'test'}):\n",
    "    with async_timeout.timeout(0):\n",
    "        async with session.post(url+'/{0}'.format(string), headers=headers, data=json.dumps({'option': 'upVote'})) as response:\n",
    "            try:\n",
    "                return await response.json()\n",
    "            except:\n",
    "                return await response.text()\n",
    "async def vote(string):\n",
    "    print (string)\n",
    "    async with aiohttp.ClientSession() as session:\n",
    "        response = await post(session, 'http://localhost:5001',string, 'upVote')\n",
    "        return response"
   ]
  },
  {
   "cell_type": "code",
   "execution_count": null,
   "metadata": {},
   "outputs": [],
   "source": [
    "loop = asyncio.get_event_loop()\n",
    "resp = loop.run_until_complete(vote('posts/8xf0y6ziyjabvozdd253nd'))\n",
    "resp"
   ]
  },
  {
   "cell_type": "code",
   "execution_count": null,
   "metadata": {},
   "outputs": [],
   "source": [
    "loop = asyncio.get_event_loop()\n",
    "resp = loop.run_until_complete(main('posts'))\n",
    "resp"
   ]
  },
  {
   "cell_type": "code",
   "execution_count": null,
   "metadata": {
    "collapsed": true
   },
   "outputs": [],
   "source": []
  }
 ],
 "metadata": {
  "kernelspec": {
   "display_name": "Python 3",
   "language": "python",
   "name": "python3"
  },
  "language_info": {
   "codemirror_mode": {
    "name": "ipython",
    "version": 3
   },
   "file_extension": ".py",
   "mimetype": "text/x-python",
   "name": "python",
   "nbconvert_exporter": "python",
   "pygments_lexer": "ipython3",
   "version": "3.6.1"
  }
 },
 "nbformat": 4,
 "nbformat_minor": 2
}
