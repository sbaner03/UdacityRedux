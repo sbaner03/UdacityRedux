{
 "cells": [
  {
   "cell_type": "code",
   "execution_count": 34,
   "metadata": {
    "collapsed": true
   },
   "outputs": [],
   "source": [
    "import aiohttp\n",
    "import asyncio\n",
    "import async_timeout\n",
    "from datetime import datetime\n",
    "import pickle\n",
    "import pandas as pd\n",
    "import json"
   ]
  },
  {
   "cell_type": "code",
   "execution_count": 35,
   "metadata": {
    "collapsed": true
   },
   "outputs": [],
   "source": [
    "async def fetch(session, url, data='posts', headers = {'Authorization': 'test'}):\n",
    "    with async_timeout.timeout(0):\n",
    "        async with session.get(url, data=data, headers=headers) as response:\n",
    "            print (str(response.url))\n",
    "            return await response.text()\n",
    "\n",
    "async def main():\n",
    "    async with aiohttp.ClientSession() as session:\n",
    "        response = await fetch(session, 'http://localhost:5001')\n",
    "        return response"
   ]
  },
  {
   "cell_type": "code",
   "execution_count": 36,
   "metadata": {},
   "outputs": [
    {
     "name": "stdout",
     "output_type": "stream",
     "text": [
      "http://localhost:5001/?posts=\n"
     ]
    }
   ],
   "source": [
    "loop = asyncio.get_event_loop()\n",
    "resp = loop.run_until_complete(main())"
   ]
  },
  {
   "cell_type": "code",
   "execution_count": 37,
   "metadata": {},
   "outputs": [
    {
     "data": {
      "text/plain": [
       "'\\n  <pre>\\n    Welcome to the Udacity Readable API!\\n\\n    Use an Authorization header to work with your own data:\\n\\n    fetch(url, { headers: { \\'Authorization\\': \\'whatever-you-want\\' }})\\n\\n    The following endpoints are available:\\n\\n    GET /categories\\n      USAGE: \\n        Get all of the categories available for the app. List is found in categories.js.\\n        Feel free to extend this list as you desire.\\n    \\n    GET /:category/posts\\n      USAGE:\\n        Get all of the posts for a particular category\\n\\n    GET /posts\\n      USAGE:\\n        Get all of the posts. Useful for the main page when no category is selected.\\n    \\n    POST /posts\\n      USAGE:\\n        Add a new post\\n      \\n      PARAMS: \\n        id - UUID should be fine, but any unique id will work\\n        timestamp - timestamp in whatever format you like, you can use Date.now() if you like\\n        title - String\\n        body - String\\n        author - String\\n        category: Any of the categories listed in categories.js. Feel free to extend this list as you desire.\\n\\n    GET /posts/:id\\n      USAGE:\\n        Get the details of a single post\\n\\n    POST /posts/:id\\n      USAGE:\\n        Used for voting on a post\\n      PARAMS:\\n        option - String: Either \"upVote\" or \"downVote\"\\n        \\n    PUT /posts/:id\\n      USAGE:\\n        Edit the details of an existing post\\n      PARAMS:\\n        title - String\\n        body - String\\n\\n    DELETE /posts/:id\\n      USAGE:\\n        Sets the deleted flag for a post to \\'true\\'. \\n        Sets the parentDeleted flag for all child comments to \\'true\\'.\\n      \\n    GET /posts/:id/comments\\n      USAGE:\\n        Get all the comments for a single post\\n    \\n    POST /comments\\n      USAGE:\\n        Add a comment to a post\\n\\n      PARAMS:\\n        id: Any unique ID. As with posts, UUID is probably the best here.\\n        timestamp: timestamp. Get this however you want.\\n        body: String\\n        author: String\\n        parentId: Should match a post id in the database.\\n\\n    GET /comments/:id\\n      USAGE:\\n        Get the details for a single comment\\n\\n    POST /comments/:id\\n      USAGE:\\n        Used for voting on a comment.\\n\\n    PUT /comments/:id\\n      USAGE:\\n        Edit the details of an existing comment\\n     \\n      PARAMS:\\n        timestamp: timestamp. Get this however you want.\\n        body: String\\n\\n    DELETE /comments/:id\\n      USAGE:\\n        Sets a comment\\'s deleted flag to \\'true\\'\\n </pre>\\n  '"
      ]
     },
     "execution_count": 37,
     "metadata": {},
     "output_type": "execute_result"
    }
   ],
   "source": [
    "resp"
   ]
  },
  {
   "cell_type": "code",
   "execution_count": null,
   "metadata": {
    "collapsed": true
   },
   "outputs": [],
   "source": []
  }
 ],
 "metadata": {
  "kernelspec": {
   "display_name": "Python 3",
   "language": "python",
   "name": "python3"
  },
  "language_info": {
   "codemirror_mode": {
    "name": "ipython",
    "version": 3
   },
   "file_extension": ".py",
   "mimetype": "text/x-python",
   "name": "python",
   "nbconvert_exporter": "python",
   "pygments_lexer": "ipython3",
   "version": "3.6.0"
  }
 },
 "nbformat": 4,
 "nbformat_minor": 2
}
