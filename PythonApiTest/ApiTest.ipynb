{
 "cells": [
  {
   "cell_type": "code",
   "execution_count": 1,
   "metadata": {
    "collapsed": true
   },
   "outputs": [],
   "source": [
    "import aiohttp\n",
    "import asyncio\n",
    "import async_timeout\n",
    "from datetime import datetime\n",
    "import pickle\n",
    "import pandas as pd\n",
    "import json\n",
    "import ast"
   ]
  },
  {
   "cell_type": "code",
   "execution_count": 16,
   "metadata": {
    "collapsed": true
   },
   "outputs": [],
   "source": [
    "async def fetch(session, url, string, headers = {'Authorization': 'test'}):\n",
    "    with async_timeout.timeout(0):\n",
    "        async with session.get(url+'/{0}'.format(string), headers=headers) as response:\n",
    "            try:\n",
    "                return await response.json()\n",
    "            except:\n",
    "                return await response.text()\n",
    "\n",
    "            \n",
    "async def main(string='posts'):\n",
    "    async with aiohttp.ClientSession() as session:\n",
    "        response = await fetch(session, 'http://localhost:5001',string)\n",
    "        return response"
   ]
  },
  {
   "cell_type": "code",
   "execution_count": 17,
   "metadata": {},
   "outputs": [
    {
     "data": {
      "text/plain": [
       "[{'author': 'thingtwo',\n",
       "  'body': 'Everyone says so after all.',\n",
       "  'category': 'react',\n",
       "  'deleted': False,\n",
       "  'id': '8xf0y6ziyjabvozdd253nd',\n",
       "  'timestamp': 1467166872634,\n",
       "  'title': 'Udacity is the best place to learn React',\n",
       "  'voteScore': 6},\n",
       " {'author': 'thingone',\n",
       "  'body': 'Just kidding. It takes more than 10 minutes to learn technology.',\n",
       "  'category': 'redux',\n",
       "  'deleted': False,\n",
       "  'id': '6ni6ok3ym7mf1p33lnez',\n",
       "  'timestamp': 1468479767190,\n",
       "  'title': 'Learn Redux in 10 minutes!',\n",
       "  'voteScore': -5}]"
      ]
     },
     "execution_count": 17,
     "metadata": {},
     "output_type": "execute_result"
    }
   ],
   "source": [
    "loop = asyncio.get_event_loop()\n",
    "resp = loop.run_until_complete(main('posts'))\n",
    "resp"
   ]
  },
  {
   "cell_type": "code",
   "execution_count": 5,
   "metadata": {
    "collapsed": true
   },
   "outputs": [],
   "source": [
    "newPost = {'author': 'supratim',\n",
    "  'body': 'Subtle changes',\n",
    "  'category': 'redux',\n",
    "  'id': '8xf0y6ziyjabvozdd253sb',\n",
    "  'timestamp': int(datetime.now().strftime(\"%s\")),\n",
    "  'title': 'ABC is the best place to learn React'}"
   ]
  },
  {
   "cell_type": "code",
   "execution_count": 6,
   "metadata": {},
   "outputs": [],
   "source": [
    "token ='anything'\n",
    "async def post(session, url,data, headers = {'Accept': 'application/json','Authorization': token,'Content-Type': 'application/json'}):\n",
    "    with async_timeout.timeout(0):\n",
    "        async with session.post(url,data = data, headers=headers) as response:\n",
    "            try:\n",
    "                return await response.json(),response.status\n",
    "            except:\n",
    "                return await response.text(),response.status\n",
    "async def newpost(url,string,data):\n",
    "    async with aiohttp.ClientSession() as session:\n",
    "        url = url+string\n",
    "        response = await post(session, url,data)\n",
    "        return response"
   ]
  },
  {
   "cell_type": "code",
   "execution_count": 13,
   "metadata": {},
   "outputs": [],
   "source": [
    "loop = asyncio.get_event_loop()\n",
    "resp, status = loop.run_until_complete(newpost('http://localhost:5001/posts','',json.dumps(newPost)))\n"
   ]
  },
  {
   "cell_type": "code",
   "execution_count": 14,
   "metadata": {},
   "outputs": [
    {
     "name": "stdout",
     "output_type": "stream",
     "text": [
      "{'id': '8xf0y6ziyjabvozdd253sb', 'timestamp': 1505460903, 'title': 'ABC is the best place to learn React', 'body': 'Subtle changes', 'author': 'supratim', 'category': 'redux', 'voteScore': 1, 'deleted': False} 200\n"
     ]
    }
   ],
   "source": [
    "print (resp,status)"
   ]
  },
  {
   "cell_type": "code",
   "execution_count": 15,
   "metadata": {},
   "outputs": [
    {
     "data": {
      "text/plain": [
       "[{'author': 'thingtwo',\n",
       "  'body': 'Everyone says so after all.',\n",
       "  'category': 'react',\n",
       "  'deleted': False,\n",
       "  'id': '8xf0y6ziyjabvozdd253nd',\n",
       "  'timestamp': 1467166872634,\n",
       "  'title': 'Udacity is the best place to learn React',\n",
       "  'voteScore': 6},\n",
       " {'author': 'thingone',\n",
       "  'body': 'Just kidding. It takes more than 10 minutes to learn technology.',\n",
       "  'category': 'redux',\n",
       "  'deleted': False,\n",
       "  'id': '6ni6ok3ym7mf1p33lnez',\n",
       "  'timestamp': 1468479767190,\n",
       "  'title': 'Learn Redux in 10 minutes!',\n",
       "  'voteScore': -5}]"
      ]
     },
     "execution_count": 15,
     "metadata": {},
     "output_type": "execute_result"
    }
   ],
   "source": [
    "loop = asyncio.get_event_loop()\n",
    "resp = loop.run_until_complete(main('posts'))\n",
    "resp"
   ]
  },
  {
   "cell_type": "code",
   "execution_count": null,
   "metadata": {
    "collapsed": true
   },
   "outputs": [],
   "source": []
  },
  {
   "cell_type": "code",
   "execution_count": null,
   "metadata": {
    "collapsed": true
   },
   "outputs": [],
   "source": []
  }
 ],
 "metadata": {
  "kernelspec": {
   "display_name": "Python 3",
   "language": "python",
   "name": "python3"
  },
  "language_info": {
   "codemirror_mode": {
    "name": "ipython",
    "version": 3
   },
   "file_extension": ".py",
   "mimetype": "text/x-python",
   "name": "python",
   "nbconvert_exporter": "python",
   "pygments_lexer": "ipython3",
   "version": "3.6.1"
  }
 },
 "nbformat": 4,
 "nbformat_minor": 2
}
