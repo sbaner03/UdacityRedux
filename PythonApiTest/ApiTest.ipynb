{
 "cells": [
  {
   "cell_type": "code",
   "execution_count": 1,
   "metadata": {},
   "outputs": [],
   "source": [
    "import aiohttp\n",
    "import asyncio\n",
    "import async_timeout\n",
    "from datetime import datetime\n",
    "import pickle\n",
    "import pandas as pd\n",
    "import json\n",
    "import ast"
   ]
  },
  {
   "cell_type": "code",
   "execution_count": 2,
   "metadata": {
    "collapsed": true
   },
   "outputs": [],
   "source": [
    "async def fetch(session, url, string, headers = {'Authorization': 'test'}):\n",
    "    with async_timeout.timeout(0):\n",
    "        async with session.get(url+'/{0}'.format(string), headers=headers) as response:\n",
    "            try:\n",
    "                return await response.json()\n",
    "            except:\n",
    "                return await response.text()\n",
    "\n",
    "async def main(string='posts'):\n",
    "    async with aiohttp.ClientSession() as session:\n",
    "        response = await fetch(session, 'http://localhost:5001',string)\n",
    "        return response"
   ]
  },
  {
   "cell_type": "code",
   "execution_count": 3,
   "metadata": {},
   "outputs": [
    {
     "data": {
      "text/plain": [
       "[{'name': 'react', 'path': 'react'},\n",
       " {'name': 'redux', 'path': 'redux'},\n",
       " {'name': 'udacity', 'path': 'udacity'}]"
      ]
     },
     "execution_count": 3,
     "metadata": {},
     "output_type": "execute_result"
    }
   ],
   "source": [
    "loop = asyncio.get_event_loop()\n",
    "resp = loop.run_until_complete(main('categories'))\n",
    "resp['categories']"
   ]
  },
  {
   "cell_type": "code",
   "execution_count": 8,
   "metadata": {},
   "outputs": [
    {
     "data": {
      "text/plain": [
       "[{'author': 'thingtwo',\n",
       "  'body': 'Everyone says so after all.',\n",
       "  'category': 'react',\n",
       "  'deleted': False,\n",
       "  'id': '8xf0y6ziyjabvozdd253nd',\n",
       "  'timestamp': 1467166872634,\n",
       "  'title': 'Udacity is the best place to learn React',\n",
       "  'voteScore': 6},\n",
       " {'author': 'thingone',\n",
       "  'body': 'Just kidding. It takes more than 10 minutes to learn technology.',\n",
       "  'category': 'redux',\n",
       "  'deleted': False,\n",
       "  'id': '6ni6ok3ym7mf1p33lnez',\n",
       "  'timestamp': 1468479767190,\n",
       "  'title': 'Learn Redux in 10 minutes!',\n",
       "  'voteScore': -5}]"
      ]
     },
     "execution_count": 8,
     "metadata": {},
     "output_type": "execute_result"
    }
   ],
   "source": [
    "loop = asyncio.get_event_loop()\n",
    "resp = loop.run_until_complete(main('posts'))\n",
    "resp"
   ]
  },
  {
   "cell_type": "code",
   "execution_count": 6,
   "metadata": {},
   "outputs": [
    {
     "data": {
      "text/plain": [
       "[{'author': 'thingtwo',\n",
       "  'body': 'Hi there! I am a COMMENT.',\n",
       "  'deleted': False,\n",
       "  'id': '894tuq4ut84ut8v4t8wun89g',\n",
       "  'parentDeleted': False,\n",
       "  'parentId': '8xf0y6ziyjabvozdd253nd',\n",
       "  'timestamp': 1468166872634,\n",
       "  'voteScore': 6},\n",
       " {'author': 'thingone',\n",
       "  'body': 'Comments. Are. Cool.',\n",
       "  'deleted': False,\n",
       "  'id': '8tu4bsun805n8un48ve89',\n",
       "  'parentDeleted': False,\n",
       "  'parentId': '8xf0y6ziyjabvozdd253nd',\n",
       "  'timestamp': 1469479767190,\n",
       "  'voteScore': -5}]"
      ]
     },
     "execution_count": 6,
     "metadata": {},
     "output_type": "execute_result"
    }
   ],
   "source": [
    "loop = asyncio.get_event_loop()\n",
    "resp = loop.run_until_complete(main('posts/8xf0y6ziyjabvozdd253nd/comments'))\n",
    "resp"
   ]
  },
  {
   "cell_type": "code",
   "execution_count": null,
   "metadata": {
    "collapsed": true
   },
   "outputs": [],
   "source": []
  }
 ],
 "metadata": {
  "kernelspec": {
   "display_name": "Python 3",
   "language": "python",
   "name": "python3"
  },
  "language_info": {
   "codemirror_mode": {
    "name": "ipython",
    "version": 3
   },
   "file_extension": ".py",
   "mimetype": "text/x-python",
   "name": "python",
   "nbconvert_exporter": "python",
   "pygments_lexer": "ipython3",
   "version": "3.6.1"
  }
 },
 "nbformat": 4,
 "nbformat_minor": 2
}
